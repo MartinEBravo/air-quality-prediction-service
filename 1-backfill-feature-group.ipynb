{
 "cells": [
  {
   "cell_type": "markdown",
   "metadata": {},
   "source": [
    "# Backfilling Feature Group\n",
    "\n",
    "## Introduction\n",
    "\n",
    "This notebook demonstrates how to backfill a feature group in Hopsworks. Backfilling is the process of computing feature values for a feature group for a specific time range. This is useful when you have a new feature group and you want to compute feature values for historical data.\n",
    "\n",
    "![](public/pipeline.png)\n",
    "\n",
    "As we can see this is the first step in our pipeline, this code will be only executed once."
   ]
  },
  {
   "cell_type": "markdown",
   "metadata": {},
   "source": [
    "### Importing the required libraries\n",
    "\n",
    "We start by importing the libraries required for this notebook."
   ]
  },
  {
   "cell_type": "code",
   "execution_count": 151,
   "metadata": {},
   "outputs": [],
   "source": [
    "import datetime\n",
    "import pandas as pd\n",
    "import hopsworks\n",
    "import great_expectations as ge\n",
    "import datetime\n",
    "import util\n",
    "import json\n",
    "import os\n",
    "import warnings\n",
    "warnings.filterwarnings(\"ignore\")"
   ]
  },
  {
   "cell_type": "markdown",
   "metadata": {},
   "source": [
    "### Loading Enviroment Secrets\n",
    "\n",
    "We want to use the secrets stored in the `.env` file in the root of the project. We can load them using the `dotenv` package."
   ]
  },
  {
   "cell_type": "code",
   "execution_count": 152,
   "metadata": {},
   "outputs": [],
   "source": [
    "import dotenv\n",
    "\n",
    "dotenv.load_dotenv()\n",
    "\n",
    "AQI_API_KEY = os.getenv(\"AQI_API_KEY\")\n",
    "HOPSWORKS_API_KEY = os.getenv(\"HOPSWORKS_API_KEY\")"
   ]
  },
  {
   "cell_type": "markdown",
   "metadata": {},
   "source": [
    "### Retrieving the historical air quality data from a CSV file"
   ]
  },
  {
   "cell_type": "code",
   "execution_count": 153,
   "metadata": {},
   "outputs": [
    {
     "name": "stdout",
     "output_type": "stream",
     "text": [
      "File successfully found at the path: data/stockholm-st-eriksgatan-83-air-quality.csv\n"
     ]
    }
   ],
   "source": [
    "# We define the path and check if the file exists\n",
    "csv_file = \"data/stockholm-st-eriksgatan-83-air-quality.csv\"\n",
    "util.check_file_path(csv_file)"
   ]
  },
  {
   "cell_type": "code",
   "execution_count": 154,
   "metadata": {},
   "outputs": [
    {
     "name": "stdout",
     "output_type": "stream",
     "text": [
      "Latitude:  59.33 Longitude:  18.07\n"
     ]
    }
   ],
   "source": [
    "# Variables \n",
    "country = \"sweden\"\n",
    "city = \"stockholm\"\n",
    "street = \"stockholm-st-eriksgatan-83\"\n",
    "aqicn_url=\"https://api.waqi.info/feed/@10523\"\n",
    "\n",
    "today = datetime.date.today()\n",
    "latitude, longitude = util.get_city_coordinates(city)\n",
    "print(\"Latitude: \", latitude, \"Longitude: \", longitude)"
   ]
  },
  {
   "cell_type": "code",
   "execution_count": 155,
   "metadata": {},
   "outputs": [
    {
     "name": "stdout",
     "output_type": "stream",
     "text": [
      "Connection closed.\n",
      "Connected. Call `.close()` to terminate connection gracefully.\n",
      "\n",
      "Logged in to project, explore it here https://c.app.hopsworks.ai:443/p/1157270\n",
      "Connected. Call `.close()` to terminate connection gracefully.\n"
     ]
    }
   ],
   "source": [
    "# Login to Hopsworks\n",
    "project = hopsworks.login()\n",
    "\n",
    "secrets = util.secrets_api(project.name)\n",
    "try:\n",
    "    secrets.create_secret(\"AQI_API_KEY\", AQI_API_KEY)\n",
    "except hopsworks.RestAPIError:\n",
    "    AQI_API_KEY = secrets.get_secret(\"AQI_API_KEY\").value"
   ]
  },
  {
   "cell_type": "code",
   "execution_count": 156,
   "metadata": {},
   "outputs": [
    {
     "data": {
      "text/html": [
       "<div>\n",
       "<style scoped>\n",
       "    .dataframe tbody tr th:only-of-type {\n",
       "        vertical-align: middle;\n",
       "    }\n",
       "\n",
       "    .dataframe tbody tr th {\n",
       "        vertical-align: top;\n",
       "    }\n",
       "\n",
       "    .dataframe thead th {\n",
       "        text-align: right;\n",
       "    }\n",
       "</style>\n",
       "<table border=\"1\" class=\"dataframe\">\n",
       "  <thead>\n",
       "    <tr style=\"text-align: right;\">\n",
       "      <th></th>\n",
       "      <th>pm25</th>\n",
       "      <th>country</th>\n",
       "      <th>city</th>\n",
       "      <th>street</th>\n",
       "      <th>date</th>\n",
       "      <th>url</th>\n",
       "    </tr>\n",
       "  </thead>\n",
       "  <tbody>\n",
       "    <tr>\n",
       "      <th>0</th>\n",
       "      <td>16.0</td>\n",
       "      <td>sweden</td>\n",
       "      <td>stockholm</td>\n",
       "      <td>stockholm-st-eriksgatan-83</td>\n",
       "      <td>2024-11-18</td>\n",
       "      <td>https://api.waqi.info/feed/@10523</td>\n",
       "    </tr>\n",
       "  </tbody>\n",
       "</table>\n",
       "</div>"
      ],
      "text/plain": [
       "   pm25 country       city                      street       date  \\\n",
       "0  16.0  sweden  stockholm  stockholm-st-eriksgatan-83 2024-11-18   \n",
       "\n",
       "                                 url  \n",
       "0  https://api.waqi.info/feed/@10523  "
      ]
     },
     "execution_count": 156,
     "metadata": {},
     "output_type": "execute_result"
    }
   ],
   "source": [
    "# \n",
    "try:\n",
    "    aq_today_df = util.get_pm25(aqicn_url, country, city, street, today, AQI_API_KEY)\n",
    "except hopsworks.RestAPIError:\n",
    "    print(\"It looks like the AQI_API_KEY doesn't work for your sensor. Is the API key correct? Is the sensor URL correct?\")\n",
    "\n",
    "aq_today_df.head()"
   ]
  },
  {
   "cell_type": "code",
   "execution_count": 157,
   "metadata": {},
   "outputs": [
    {
     "data": {
      "text/html": [
       "<div>\n",
       "<style scoped>\n",
       "    .dataframe tbody tr th:only-of-type {\n",
       "        vertical-align: middle;\n",
       "    }\n",
       "\n",
       "    .dataframe tbody tr th {\n",
       "        vertical-align: top;\n",
       "    }\n",
       "\n",
       "    .dataframe thead th {\n",
       "        text-align: right;\n",
       "    }\n",
       "</style>\n",
       "<table border=\"1\" class=\"dataframe\">\n",
       "  <thead>\n",
       "    <tr style=\"text-align: right;\">\n",
       "      <th></th>\n",
       "      <th>date</th>\n",
       "      <th>pm25</th>\n",
       "      <th>country</th>\n",
       "      <th>city</th>\n",
       "      <th>street</th>\n",
       "      <th>url</th>\n",
       "      <th>pm25_1_days_before</th>\n",
       "      <th>pm25_2_days_before</th>\n",
       "      <th>pm25_3_days_before</th>\n",
       "      <th>pm25_avg_3_days_before</th>\n",
       "    </tr>\n",
       "  </thead>\n",
       "  <tbody>\n",
       "    <tr>\n",
       "      <th>2111</th>\n",
       "      <td>2018-04-12</td>\n",
       "      <td>26.0</td>\n",
       "      <td>sweden</td>\n",
       "      <td>stockholm</td>\n",
       "      <td>stockholm-st-eriksgatan-83</td>\n",
       "      <td>https://api.waqi.info/feed/@10523</td>\n",
       "      <td>23.0</td>\n",
       "      <td>14.0</td>\n",
       "      <td>55.0</td>\n",
       "      <td>30.666666</td>\n",
       "    </tr>\n",
       "    <tr>\n",
       "      <th>2112</th>\n",
       "      <td>2018-04-13</td>\n",
       "      <td>33.0</td>\n",
       "      <td>sweden</td>\n",
       "      <td>stockholm</td>\n",
       "      <td>stockholm-st-eriksgatan-83</td>\n",
       "      <td>https://api.waqi.info/feed/@10523</td>\n",
       "      <td>26.0</td>\n",
       "      <td>23.0</td>\n",
       "      <td>14.0</td>\n",
       "      <td>21.000000</td>\n",
       "    </tr>\n",
       "    <tr>\n",
       "      <th>2113</th>\n",
       "      <td>2018-04-14</td>\n",
       "      <td>37.0</td>\n",
       "      <td>sweden</td>\n",
       "      <td>stockholm</td>\n",
       "      <td>stockholm-st-eriksgatan-83</td>\n",
       "      <td>https://api.waqi.info/feed/@10523</td>\n",
       "      <td>33.0</td>\n",
       "      <td>26.0</td>\n",
       "      <td>23.0</td>\n",
       "      <td>27.333334</td>\n",
       "    </tr>\n",
       "    <tr>\n",
       "      <th>2114</th>\n",
       "      <td>2018-04-15</td>\n",
       "      <td>64.0</td>\n",
       "      <td>sweden</td>\n",
       "      <td>stockholm</td>\n",
       "      <td>stockholm-st-eriksgatan-83</td>\n",
       "      <td>https://api.waqi.info/feed/@10523</td>\n",
       "      <td>37.0</td>\n",
       "      <td>33.0</td>\n",
       "      <td>26.0</td>\n",
       "      <td>32.000000</td>\n",
       "    </tr>\n",
       "    <tr>\n",
       "      <th>2115</th>\n",
       "      <td>2018-04-16</td>\n",
       "      <td>70.0</td>\n",
       "      <td>sweden</td>\n",
       "      <td>stockholm</td>\n",
       "      <td>stockholm-st-eriksgatan-83</td>\n",
       "      <td>https://api.waqi.info/feed/@10523</td>\n",
       "      <td>64.0</td>\n",
       "      <td>37.0</td>\n",
       "      <td>33.0</td>\n",
       "      <td>44.666668</td>\n",
       "    </tr>\n",
       "    <tr>\n",
       "      <th>...</th>\n",
       "      <td>...</td>\n",
       "      <td>...</td>\n",
       "      <td>...</td>\n",
       "      <td>...</td>\n",
       "      <td>...</td>\n",
       "      <td>...</td>\n",
       "      <td>...</td>\n",
       "      <td>...</td>\n",
       "      <td>...</td>\n",
       "      <td>...</td>\n",
       "    </tr>\n",
       "    <tr>\n",
       "      <th>12</th>\n",
       "      <td>2024-11-13</td>\n",
       "      <td>21.0</td>\n",
       "      <td>sweden</td>\n",
       "      <td>stockholm</td>\n",
       "      <td>stockholm-st-eriksgatan-83</td>\n",
       "      <td>https://api.waqi.info/feed/@10523</td>\n",
       "      <td>21.0</td>\n",
       "      <td>20.0</td>\n",
       "      <td>10.0</td>\n",
       "      <td>17.000000</td>\n",
       "    </tr>\n",
       "    <tr>\n",
       "      <th>13</th>\n",
       "      <td>2024-11-14</td>\n",
       "      <td>25.0</td>\n",
       "      <td>sweden</td>\n",
       "      <td>stockholm</td>\n",
       "      <td>stockholm-st-eriksgatan-83</td>\n",
       "      <td>https://api.waqi.info/feed/@10523</td>\n",
       "      <td>21.0</td>\n",
       "      <td>21.0</td>\n",
       "      <td>20.0</td>\n",
       "      <td>20.666666</td>\n",
       "    </tr>\n",
       "    <tr>\n",
       "      <th>14</th>\n",
       "      <td>2024-11-15</td>\n",
       "      <td>22.0</td>\n",
       "      <td>sweden</td>\n",
       "      <td>stockholm</td>\n",
       "      <td>stockholm-st-eriksgatan-83</td>\n",
       "      <td>https://api.waqi.info/feed/@10523</td>\n",
       "      <td>25.0</td>\n",
       "      <td>21.0</td>\n",
       "      <td>21.0</td>\n",
       "      <td>22.333334</td>\n",
       "    </tr>\n",
       "    <tr>\n",
       "      <th>15</th>\n",
       "      <td>2024-11-16</td>\n",
       "      <td>13.0</td>\n",
       "      <td>sweden</td>\n",
       "      <td>stockholm</td>\n",
       "      <td>stockholm-st-eriksgatan-83</td>\n",
       "      <td>https://api.waqi.info/feed/@10523</td>\n",
       "      <td>22.0</td>\n",
       "      <td>25.0</td>\n",
       "      <td>21.0</td>\n",
       "      <td>22.666666</td>\n",
       "    </tr>\n",
       "    <tr>\n",
       "      <th>16</th>\n",
       "      <td>2024-11-17</td>\n",
       "      <td>14.0</td>\n",
       "      <td>sweden</td>\n",
       "      <td>stockholm</td>\n",
       "      <td>stockholm-st-eriksgatan-83</td>\n",
       "      <td>https://api.waqi.info/feed/@10523</td>\n",
       "      <td>13.0</td>\n",
       "      <td>22.0</td>\n",
       "      <td>25.0</td>\n",
       "      <td>20.000000</td>\n",
       "    </tr>\n",
       "  </tbody>\n",
       "</table>\n",
       "<p>2139 rows × 10 columns</p>\n",
       "</div>"
      ],
      "text/plain": [
       "           date  pm25 country       city                      street  \\\n",
       "2111 2018-04-12  26.0  sweden  stockholm  stockholm-st-eriksgatan-83   \n",
       "2112 2018-04-13  33.0  sweden  stockholm  stockholm-st-eriksgatan-83   \n",
       "2113 2018-04-14  37.0  sweden  stockholm  stockholm-st-eriksgatan-83   \n",
       "2114 2018-04-15  64.0  sweden  stockholm  stockholm-st-eriksgatan-83   \n",
       "2115 2018-04-16  70.0  sweden  stockholm  stockholm-st-eriksgatan-83   \n",
       "...         ...   ...     ...        ...                         ...   \n",
       "12   2024-11-13  21.0  sweden  stockholm  stockholm-st-eriksgatan-83   \n",
       "13   2024-11-14  25.0  sweden  stockholm  stockholm-st-eriksgatan-83   \n",
       "14   2024-11-15  22.0  sweden  stockholm  stockholm-st-eriksgatan-83   \n",
       "15   2024-11-16  13.0  sweden  stockholm  stockholm-st-eriksgatan-83   \n",
       "16   2024-11-17  14.0  sweden  stockholm  stockholm-st-eriksgatan-83   \n",
       "\n",
       "                                    url  pm25_1_days_before  \\\n",
       "2111  https://api.waqi.info/feed/@10523                23.0   \n",
       "2112  https://api.waqi.info/feed/@10523                26.0   \n",
       "2113  https://api.waqi.info/feed/@10523                33.0   \n",
       "2114  https://api.waqi.info/feed/@10523                37.0   \n",
       "2115  https://api.waqi.info/feed/@10523                64.0   \n",
       "...                                 ...                 ...   \n",
       "12    https://api.waqi.info/feed/@10523                21.0   \n",
       "13    https://api.waqi.info/feed/@10523                21.0   \n",
       "14    https://api.waqi.info/feed/@10523                25.0   \n",
       "15    https://api.waqi.info/feed/@10523                22.0   \n",
       "16    https://api.waqi.info/feed/@10523                13.0   \n",
       "\n",
       "      pm25_2_days_before  pm25_3_days_before  pm25_avg_3_days_before  \n",
       "2111                14.0                55.0               30.666666  \n",
       "2112                23.0                14.0               21.000000  \n",
       "2113                26.0                23.0               27.333334  \n",
       "2114                33.0                26.0               32.000000  \n",
       "2115                37.0                33.0               44.666668  \n",
       "...                  ...                 ...                     ...  \n",
       "12                  20.0                10.0               17.000000  \n",
       "13                  21.0                20.0               20.666666  \n",
       "14                  21.0                21.0               22.333334  \n",
       "15                  25.0                21.0               22.666666  \n",
       "16                  22.0                25.0               20.000000  \n",
       "\n",
       "[2139 rows x 10 columns]"
      ]
     },
     "execution_count": 157,
     "metadata": {},
     "output_type": "execute_result"
    }
   ],
   "source": [
    "# Save the data to a CSV file\n",
    "df = pd.read_csv(csv_file, parse_dates=[\"date\"], skipinitialspace=True)\n",
    "\n",
    "df = df[[\"date\", \"pm25\"]]\n",
    "df[\"country\"] = country\n",
    "df[\"city\"] = city\n",
    "df[\"street\"] = street\n",
    "df[\"url\"] = aqicn_url\n",
    "df[\"pm25\"] = df[\"pm25\"].astype(\"float32\")\n",
    "\n",
    "df.sort_values(by=\"date\", inplace=True)\n",
    "\n",
    "df[\"pm25_1_days_before\"] = df[\"pm25\"].shift(1)\n",
    "df[\"pm25_2_days_before\"] = df[\"pm25\"].shift(2)\n",
    "df[\"pm25_3_days_before\"] = df[\"pm25\"].shift(3)\n",
    "df[\"pm25_avg_3_days_before\"] = df[[\"pm25_1_days_before\", \"pm25_2_days_before\", \"pm25_3_days_before\"]].mean(axis=1)\n",
    "\n",
    "# Drop rows with missing values\n",
    "df.dropna(inplace=True)\n",
    "\n",
    "# Let's check the data\n",
    "df"
   ]
  },
  {
   "cell_type": "code",
   "execution_count": 158,
   "metadata": {},
   "outputs": [
    {
     "name": "stdout",
     "output_type": "stream",
     "text": [
      "Coordinates 59.29701232910156°N 18.163265228271484°E\n",
      "Elevation 18.0 m asl\n",
      "Timezone None None\n",
      "Timezone difference to GMT+0 0 s\n"
     ]
    }
   ],
   "source": [
    "earliest_date = pd.Series.min(df['date'])\n",
    "earliest_date = earliest_date.strftime(\"%Y-%m-%d\")\n",
    "earliest_date\n",
    "\n",
    "weather_df = util.get_historical_weather(city, earliest_date, str(today), latitude, longitude)"
   ]
  },
  {
   "cell_type": "code",
   "execution_count": 159,
   "metadata": {},
   "outputs": [
    {
     "name": "stdout",
     "output_type": "stream",
     "text": [
      "<class 'pandas.core.frame.DataFrame'>\n",
      "Index: 2411 entries, 0 to 2410\n",
      "Data columns (total 6 columns):\n",
      " #   Column                       Non-Null Count  Dtype         \n",
      "---  ------                       --------------  -----         \n",
      " 0   date                         2411 non-null   datetime64[ns]\n",
      " 1   temperature_2m_mean          2411 non-null   float32       \n",
      " 2   precipitation_sum            2411 non-null   float32       \n",
      " 3   wind_speed_10m_max           2411 non-null   float32       \n",
      " 4   wind_direction_10m_dominant  2411 non-null   float32       \n",
      " 5   city                         2411 non-null   object        \n",
      "dtypes: datetime64[ns](1), float32(4), object(1)\n",
      "memory usage: 94.2+ KB\n"
     ]
    }
   ],
   "source": [
    "weather_df.info()"
   ]
  },
  {
   "cell_type": "markdown",
   "metadata": {},
   "source": [
    "## Expectation Suite\n",
    "\n",
    "The goal here is to add an expectation suite to the feature group. This will allow us to validate the data that is inserted into the feature group. We will use the `great_expectations` library to create the expectation suite.\n",
    "\n",
    "For example, we filter out the rows less than 0 and greater than 500 for the `pm25` feature. We can add this expectation to the feature group.\n"
   ]
  },
  {
   "cell_type": "code",
   "execution_count": 160,
   "metadata": {},
   "outputs": [],
   "source": [
    "aq_expectation_suite = ge.core.ExpectationSuite(\n",
    "    expectation_suite_name=\"aq_expectation_suite\",\n",
    ")\n",
    "\n",
    "weather_expectation_suite = ge.core.ExpectationSuite(\n",
    "    expectation_suite_name=\"weather_expectation_suite\"\n",
    ")\n",
    "\n",
    "def expect_greater_than_zero(col, min_value, max_value, expectation_suite):\n",
    "    expectation_suite.add_expectation(\n",
    "        ge.core.ExpectationConfiguration(\n",
    "            expectation_type=\"expect_column_min_to_be_between\",\n",
    "            kwargs={\n",
    "                \"column\":col,\n",
    "                \"min_value\":min_value,\n",
    "                \"max_value\":max_value,\n",
    "                \"strict_min\":True\n",
    "            }\n",
    "        )\n",
    "    )\n",
    "\n",
    "expect_greater_than_zero(\"pm25\", min_value=-0.1, max_value=500.0, expectation_suite=aq_expectation_suite)\n",
    "\n",
    "expect_greater_than_zero(\"precipitation_sum\", min_value=0.0, max_value=1000.0, expectation_suite=weather_expectation_suite)\n",
    "\n",
    "expect_greater_than_zero(\"wind_speed_10m_max\", min_value=0.0, max_value=1000.0, expectation_suite=weather_expectation_suite)"
   ]
  },
  {
   "cell_type": "code",
   "execution_count": 161,
   "metadata": {},
   "outputs": [
    {
     "name": "stdout",
     "output_type": "stream",
     "text": [
      "SENSOR_LOCATION_JSON already exists. To update, delete the secret in the UI (https://c.app.hopsworks.ai/account/secrets) and re-run this cell.\n",
      "{\"country\": \"sweden\", \"city\": \"stockholm\", \"street\": \"stockholm-st-eriksgatan-83\", \"aqicn_url\": \"https://api.waqi.info/feed/@10523\", \"latitude\": 59.33, \"longitude\": 18.07}\n"
     ]
    }
   ],
   "source": [
    "\n",
    "dict_obj = {\n",
    "    \"country\": country,\n",
    "    \"city\": city,\n",
    "    \"street\": street,\n",
    "    \"aqicn_url\": aqicn_url,\n",
    "    \"latitude\": latitude,\n",
    "    \"longitude\": longitude,\n",
    "}\n",
    "\n",
    "# Convert the dictionary to a JSON string\n",
    "str_dict = json.dumps(dict_obj)\n",
    "\n",
    "try:\n",
    "    secrets.create_secret(\"SENSOR_LOCATION_JSON\", str_dict)\n",
    "except hopsworks.RestAPIError:\n",
    "    print(\"SENSOR_LOCATION_JSON already exists. To update, delete the secret in the UI (https://c.app.hopsworks.ai/account/secrets) and re-run this cell.\")\n",
    "    existing_key = secrets.get_secret(\"SENSOR_LOCATION_JSON\").value\n",
    "    print(f\"{existing_key}\")"
   ]
  },
  {
   "cell_type": "code",
   "execution_count": 169,
   "metadata": {},
   "outputs": [
    {
     "name": "stdout",
     "output_type": "stream",
     "text": [
      "Connected. Call `.close()` to terminate connection gracefully.\n"
     ]
    }
   ],
   "source": [
    "fs = project.get_feature_store()"
   ]
  },
  {
   "cell_type": "code",
   "execution_count": 170,
   "metadata": {},
   "outputs": [
    {
     "name": "stdout",
     "output_type": "stream",
     "text": [
      "Feature Group created successfully, explore it at \n",
      "https://c.app.hopsworks.ai:443/p/1157270/fs/1147973/fg/1353047\n",
      "2024-11-18 12:47:19,478 INFO: \t1 expectation(s) included in expectation_suite.\n",
      "Validation succeeded.\n",
      "Validation Report saved successfully, explore a summary at https://c.app.hopsworks.ai:443/p/1157270/fs/1147973/fg/1353047\n"
     ]
    },
    {
     "data": {
      "application/vnd.jupyter.widget-view+json": {
       "model_id": "9b31b740ccce44c6b1b1d6a98c439b1e",
       "version_major": 2,
       "version_minor": 0
      },
      "text/plain": [
       "Uploading Dataframe: 0.00% |          | Rows 0/2139 | Elapsed Time: 00:00 | Remaining Time: ?"
      ]
     },
     "metadata": {},
     "output_type": "display_data"
    },
    {
     "name": "stdout",
     "output_type": "stream",
     "text": [
      "Launching job: air_quality_1_offline_fg_materialization\n",
      "Job started successfully, you can follow the progress at \n",
      "https://c.app.hopsworks.ai/p/1157270/jobs/named/air_quality_1_offline_fg_materialization/executions\n"
     ]
    },
    {
     "data": {
      "text/plain": [
       "<hsfs.feature_group.FeatureGroup at 0x1304fa2a0>"
      ]
     },
     "execution_count": 170,
     "metadata": {},
     "output_type": "execute_result"
    }
   ],
   "source": [
    "air_quality_fg = fs.get_or_create_feature_group(\n",
    "    name='air_quality',\n",
    "    description='Air Quality characteristics of each day',\n",
    "    version=1,\n",
    "    primary_key=['city', 'street', 'date'],\n",
    "    event_time=\"date\",\n",
    "    expectation_suite=aq_expectation_suite\n",
    ")\n",
    "\n",
    "air_quality_fg.insert(df)\n",
    "\n",
    "air_quality_fg.update_feature_description(\"date\", \"Date of measurement of air quality\")\n",
    "air_quality_fg.update_feature_description(\"country\", \"Country where the air quality was measured (sometimes a city in acqcn.org)\")\n",
    "air_quality_fg.update_feature_description(\"city\", \"City where the air quality was measured\")\n",
    "air_quality_fg.update_feature_description(\"street\", \"Street in the city where the air quality was measured\")\n",
    "air_quality_fg.update_feature_description(\"pm25\", \"Particles less than 2.5 micrometers in diameter (fine particles) pose health risk\")\n",
    "air_quality_fg.update_feature_description(\"pm25_1_days_before\", \"PM2.5 value 1 day before\")\n",
    "air_quality_fg.update_feature_description(\"pm25_2_days_before\", \"PM2.5 value 2 days before\")\n",
    "air_quality_fg.update_feature_description(\"pm25_3_days_before\", \"PM2.5 value 3 days before\")\n",
    "air_quality_fg.update_feature_description(\"pm25_avg_3_days_before\", \"Average PM2.5 value for the last 3 days\")"
   ]
  },
  {
   "cell_type": "code",
   "execution_count": 174,
   "metadata": {},
   "outputs": [
    {
     "name": "stdout",
     "output_type": "stream",
     "text": [
      "Feature Group created successfully, explore it at \n",
      "https://c.app.hopsworks.ai:443/p/1157270/fs/1147973/fg/1354064\n",
      "2024-11-18 12:49:00,623 INFO: \t2 expectation(s) included in expectation_suite.\n",
      "Validation failed.\n",
      "Validation Report saved successfully, explore a summary at https://c.app.hopsworks.ai:443/p/1157270/fs/1147973/fg/1354064\n"
     ]
    },
    {
     "data": {
      "application/vnd.jupyter.widget-view+json": {
       "model_id": "298930c24f684dcf86984fab2cb865b7",
       "version_major": 2,
       "version_minor": 0
      },
      "text/plain": [
       "Uploading Dataframe: 0.00% |          | Rows 0/2411 | Elapsed Time: 00:00 | Remaining Time: ?"
      ]
     },
     "metadata": {},
     "output_type": "display_data"
    },
    {
     "name": "stdout",
     "output_type": "stream",
     "text": [
      "Launching job: weather_1_offline_fg_materialization\n",
      "Job started successfully, you can follow the progress at \n",
      "https://c.app.hopsworks.ai/p/1157270/jobs/named/weather_1_offline_fg_materialization/executions\n"
     ]
    },
    {
     "data": {
      "text/plain": [
       "<hsfs.feature_group.FeatureGroup at 0x30ccbc260>"
      ]
     },
     "execution_count": 174,
     "metadata": {},
     "output_type": "execute_result"
    }
   ],
   "source": [
    "# Get or create feature group \n",
    "weather_fg = fs.get_or_create_feature_group(\n",
    "    name='weather',\n",
    "    description='Weather characteristics of each day',\n",
    "    version=1,\n",
    "    primary_key=['city', 'date'],\n",
    "    event_time=\"date\",\n",
    "    expectation_suite=weather_expectation_suite\n",
    ") \n",
    "\n",
    "\n",
    "# Insert data\n",
    "weather_fg.insert(weather_df)\n",
    "\n",
    "weather_fg.update_feature_description(\"date\", \"Date of measurement of weather\")\n",
    "weather_fg.update_feature_description(\"city\", \"City where weather is measured/forecast for\")\n",
    "weather_fg.update_feature_description(\"temperature_2m_mean\", \"Temperature in Celsius\")\n",
    "weather_fg.update_feature_description(\"precipitation_sum\", \"Precipitation (rain/snow) in mm\")\n",
    "weather_fg.update_feature_description(\"wind_speed_10m_max\", \"Wind speed at 10m abouve ground\")\n",
    "weather_fg.update_feature_description(\"wind_direction_10m_dominant\", \"Dominant Wind direction over the dayd\")\n"
   ]
  }
 ],
 "metadata": {
  "kernelspec": {
   "display_name": "Python 3",
   "language": "python",
   "name": "python3"
  },
  "language_info": {
   "codemirror_mode": {
    "name": "ipython",
    "version": 3
   },
   "file_extension": ".py",
   "mimetype": "text/x-python",
   "name": "python",
   "nbconvert_exporter": "python",
   "pygments_lexer": "ipython3",
   "version": "3.12.2"
  },
  "vscode": {
   "interpreter": {
    "hash": "e76101013b4554409517ea5e48680d10f8b21d3574b21ef810c80afd4c1045a0"
   }
  }
 },
 "nbformat": 4,
 "nbformat_minor": 2
}
