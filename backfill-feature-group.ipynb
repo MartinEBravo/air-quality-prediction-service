{
 "cells": [
  {
   "cell_type": "code",
   "execution_count": 10,
   "metadata": {},
   "outputs": [],
   "source": [
    "import datetime\n",
    "import requests\n",
    "import pandas as pd\n",
    "import hopsworks\n",
    "import datetime\n",
    "from pathlib import Path\n",
    "import util\n",
    "import json\n",
    "import re\n",
    "import os\n",
    "import warnings\n",
    "warnings.filterwarnings(\"ignore\")"
   ]
  },
  {
   "cell_type": "code",
   "execution_count": null,
   "metadata": {},
   "outputs": [
    {
     "name": "stdout",
     "output_type": "stream",
     "text": [
      "File successfully found at the path: data/viña-del-mar-air-quality.csv\n"
     ]
    }
   ],
   "source": [
    "csv_file = \"data/viña-del-mar-air-quality.csv\"\n",
    "util.check_file_path(csv_file)"
   ]
  },
  {
   "cell_type": "code",
   "execution_count": null,
   "metadata": {},
   "outputs": [],
   "source": [
    "country=\"chile\"\n",
    "city = \"vina-del-mar\"\n",
    "street = \"\"\n",
    "aqicn_url=\"https://api.waqi.info/feed/@14769\"\n",
    "\n",
    "# This API call may fail if the IP address you run this notebook from is blocked by the Nominatim API\n",
    "# If this fails, lookup the latitude, longitude using Google and enter the values here.\n",
    "# latitude, longitude = util.get_city_coordinates(city)\n",
    "latitude = \"53.3498\"\n",
    "longitude = \"-6.2603\"\n",
    "today = datetime.date.today()"
   ]
  },
  {
   "cell_type": "markdown",
   "metadata": {},
   "source": []
  }
 ],
 "metadata": {
  "kernelspec": {
   "display_name": "Python 3",
   "language": "python",
   "name": "python3"
  },
  "language_info": {
   "codemirror_mode": {
    "name": "ipython",
    "version": 3
   },
   "file_extension": ".py",
   "mimetype": "text/x-python",
   "name": "python",
   "nbconvert_exporter": "python",
   "pygments_lexer": "ipython3",
   "version": "3.12.2"
  }
 },
 "nbformat": 4,
 "nbformat_minor": 2
}
